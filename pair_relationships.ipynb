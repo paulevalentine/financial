{
  "nbformat": 4,
  "nbformat_minor": 0,
  "metadata": {
    "colab": {
      "name": "pair_relationships.ipynb",
      "provenance": [],
      "collapsed_sections": [],
      "authorship_tag": "ABX9TyO+3LD+KGQwCkxitToTMP4P",
      "include_colab_link": true
    },
    "kernelspec": {
      "name": "python3",
      "display_name": "Python 3"
    }
  },
  "cells": [
    {
      "cell_type": "markdown",
      "metadata": {
        "id": "view-in-github",
        "colab_type": "text"
      },
      "source": [
        "<a href=\"https://colab.research.google.com/github/paulevalentine/financial/blob/master/pair_relationships.ipynb\" target=\"_parent\"><img src=\"https://colab.research.google.com/assets/colab-badge.svg\" alt=\"Open In Colab\"/></a>"
      ]
    },
    {
      "cell_type": "markdown",
      "metadata": {
        "id": "2hSnxHWANF0o",
        "colab_type": "text"
      },
      "source": [
        "# Investigate relationships between pairs of assets"
      ]
    },
    {
      "cell_type": "code",
      "metadata": {
        "id": "PMUX9BjkNS5C",
        "colab_type": "code",
        "colab": {
          "base_uri": "https://localhost:8080/",
          "height": 34
        },
        "outputId": "77785805-252e-4c72-949f-2deeb90869cf"
      },
      "source": [
        "!pip install -q yfinance"
      ],
      "execution_count": 1,
      "outputs": [
        {
          "output_type": "stream",
          "text": [
            "  Building wheel for yfinance (setup.py) ... \u001b[?25l\u001b[?25hdone\n"
          ],
          "name": "stdout"
        }
      ]
    },
    {
      "cell_type": "code",
      "metadata": {
        "id": "x8-wvJBtNalK",
        "colab_type": "code",
        "colab": {}
      },
      "source": [
        "import yfinance as yf\n",
        "import matplotlib.pyplot as plt\n",
        "import pandas as pd\n",
        "import numpy as np"
      ],
      "execution_count": 0,
      "outputs": []
    },
    {
      "cell_type": "markdown",
      "metadata": {
        "id": "Uq3cThIdN_Ua",
        "colab_type": "text"
      },
      "source": [
        "## Get the data for two assets from Yahoo Finance"
      ]
    },
    {
      "cell_type": "code",
      "metadata": {
        "id": "Y-nAZ-O3Ngz8",
        "colab_type": "code",
        "colab": {}
      },
      "source": [
        "ticker1 = 'PSN.L'\n",
        "ticker2 = 'BDEV.L'\n",
        "yfticker1 = yf.Ticker(ticker1)\n",
        "yfticker2 = yf.Ticker(ticker2)\n",
        "data1 = yfticker1.history(period='max')\n",
        "data2 = yfticker2.history(period='max')"
      ],
      "execution_count": 0,
      "outputs": []
    },
    {
      "cell_type": "markdown",
      "metadata": {
        "id": "YqNvIvKNOHyX",
        "colab_type": "text"
      },
      "source": [
        "Filter this data to suit a specific date range"
      ]
    },
    {
      "cell_type": "code",
      "metadata": {
        "id": "OQR7X5mXOQpI",
        "colab_type": "code",
        "colab": {
          "base_uri": "https://localhost:8080/",
          "height": 155
        },
        "outputId": "b67149ce-9b65-4289-c599-2ca19d96eb4d"
      },
      "source": [
        "from_date = '2020-01-01'\n",
        "to_date = '2020-05-20'\n",
        "data1Filt = data1.loc[(data1.index>=from_date)&(data1.index<=to_date)]\n",
        "data2Filt = data2.loc[(data2.index>=from_date)&(data2.index<=to_date)]"
      ],
      "execution_count": 14,
      "outputs": [
        {
          "output_type": "stream",
          "text": [
            "Open               2598.89\n",
            "High               2627.63\n",
            "Low                2585.15\n",
            "Close              2615.18\n",
            "Volume          1112656.00\n",
            "Dividends             0.00\n",
            "Stock Splits          0.00\n",
            "Name: 2020-01-02 00:00:00, dtype: float64\n"
          ],
          "name": "stdout"
        }
      ]
    }
  ]
}